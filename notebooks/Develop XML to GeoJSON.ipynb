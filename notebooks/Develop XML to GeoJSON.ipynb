{
 "cells": [
  {
   "cell_type": "code",
   "execution_count": 1,
   "metadata": {},
   "outputs": [],
   "source": [
    "import os\n",
    "\n",
    "import pandas as pd\n",
    "import PIL\n",
    "from matplotlib import pyplot as plt\n",
    "import xml.etree.ElementTree as ET\n",
    "from shapely.geometry import shape\n",
    "\n",
    "import rastervision as rv\n",
    "from rastervision.utils.files import (get_local_path, download_if_needed)\n",
    "from rastervision.filesystem import FileSystem\n",
    "\n",
    "from wwt.utils import *"
   ]
  },
  {
   "cell_type": "code",
   "execution_count": 2,
   "metadata": {},
   "outputs": [],
   "source": [
    "sample_xml = open('/opt/data/OneDrive_2_11-21-2018/img_3_104001001F65A100.xml').read()\n",
    "\n"
   ]
  },
  {
   "cell_type": "code",
   "execution_count": 4,
   "metadata": {},
   "outputs": [
    {
     "name": "stdout",
     "output_type": "stream",
     "text": [
      "<annotation verified=\"yes\">\n",
      "\t<folder>Mexico</folder>\n",
      "\t<filename>img_3_104001001F65A100.jpg</filename>\n",
      "\t<path>D:\\WWTP\\GBDX_images\\Mexico\\img_3_104001001F65A100.jpg</path>\n",
      "\t<source>\n",
      "\t\t<database>Unknown</database>\n",
      "\t</source>\n",
      "\t<size>\n",
      "\t\t<width>5011</width>\n",
      "\t\t<height>3187</height>\n",
      "\t\t<depth>3</depth>\n",
      "\t</size>\n",
      "\t<segmented>0</segmented>\n",
      "\t<object>\n",
      "\t\t<name>WWTP</name>\n",
      "\t\t<pose>Unspecified</pose>\n",
      "\t\t<truncated>0</truncated>\n",
      "\t\t<difficult>0</difficult>\n",
      "\t\t<bndbox>\n",
      "\t\t\t<xmin>2010</xmin>\n",
      "\t\t\t<ymin>1290</ymin>\n",
      "\t\t\t<xmax>3493</xmax>\n",
      "\t\t\t<ymax>2123</ymax>\n",
      "\t\t</bndbox>\n",
      "\t</object>\n",
      "\t<object>\n",
      "\t\t<name>Clarifier</name>\n",
      "\t\t<pose>Unspecified</pose>\n",
      "\t\t<truncated>0</truncated>\n",
      "\t\t<difficult>0</difficult>\n",
      "\t\t<bndbox>\n",
      "\t\t\t<xmin>2567</xmin>\n",
      "\t\t\t<ymin>1622</ymin>\n",
      "\t\t\t<xmax>2787</xmax>\n",
      "\t\t\t<ymax>1800</ymax>\n",
      "\t\t</bndbox>\n",
      "\t</object>\n",
      "\t<object>\n",
      "\t\t<name>Clarifier</name>\n",
      "\t\t<pose>Unspecified</pose>\n",
      "\t\t<truncated>0</truncated>\n",
      "\t\t<difficult>0</difficult>\n",
      "\t\t<bndbox>\n",
      "\t\t\t<xmin>2714</xmin>\n",
      "\t\t\t<ymin>1490</ymin>\n",
      "\t\t\t<xmax>2934</xmax>\n",
      "\t\t\t<ymax>1668</ymax>\n",
      "\t\t</bndbox>\n",
      "\t</object>\n",
      "\t<object>\n",
      "\t\t<name>SludgePool</name>\n",
      "\t\t<pose>Unspecified</pose>\n",
      "\t\t<truncated>0</truncated>\n",
      "\t\t<difficult>0</difficult>\n",
      "\t\t<bndbox>\n",
      "\t\t\t<xmin>2191</xmin>\n",
      "\t\t\t<ymin>1745</ymin>\n",
      "\t\t\t<xmax>2401</xmax>\n",
      "\t\t\t<ymax>1893</ymax>\n",
      "\t\t</bndbox>\n",
      "\t</object>\n",
      "\t<object>\n",
      "\t\t<name>SludgePool</name>\n",
      "\t\t<pose>Unspecified</pose>\n",
      "\t\t<truncated>0</truncated>\n",
      "\t\t<difficult>0</difficult>\n",
      "\t\t<bndbox>\n",
      "\t\t\t<xmin>2719</xmin>\n",
      "\t\t\t<ymin>1680</ymin>\n",
      "\t\t\t<xmax>3114</xmax>\n",
      "\t\t\t<ymax>2005</ymax>\n",
      "\t\t</bndbox>\n",
      "\t</object>\n",
      "\t<object>\n",
      "\t\t<name>SClarifier</name>\n",
      "\t\t<pose>Unspecified</pose>\n",
      "\t\t<truncated>0</truncated>\n",
      "\t\t<difficult>0</difficult>\n",
      "\t\t<bndbox>\n",
      "\t\t\t<xmin>2962</xmin>\n",
      "\t\t\t<ymin>1340</ymin>\n",
      "\t\t\t<xmax>3312</xmax>\n",
      "\t\t\t<ymax>1680</ymax>\n",
      "\t\t</bndbox>\n",
      "\t</object>\n",
      "\t<object>\n",
      "\t\t<name>SClarifier</name>\n",
      "\t\t<pose>Unspecified</pose>\n",
      "\t\t<truncated>0</truncated>\n",
      "\t\t<difficult>0</difficult>\n",
      "\t\t<bndbox>\n",
      "\t\t\t<xmin>3056</xmin>\n",
      "\t\t\t<ymin>1415</ymin>\n",
      "\t\t\t<xmax>3406</xmax>\n",
      "\t\t\t<ymax>1755</ymax>\n",
      "\t\t</bndbox>\n",
      "\t</object>\n",
      "</annotation>\n",
      "\n"
     ]
    }
   ],
   "source": [
    "print(sample_xml)"
   ]
  },
  {
   "cell_type": "code",
   "execution_count": 7,
   "metadata": {},
   "outputs": [],
   "source": [
    "xml = ET.fromstring(sample_xml)"
   ]
  },
  {
   "cell_type": "code",
   "execution_count": null,
   "metadata": {},
   "outputs": [],
   "source": [
    "o = xml.findall('object')[0]"
   ]
  },
  {
   "cell_type": "code",
   "execution_count": 10,
   "metadata": {},
   "outputs": [
    {
     "data": {
      "text/plain": [
       "'5011'"
      ]
     },
     "execution_count": 10,
     "metadata": {},
     "output_type": "execute_result"
    }
   ],
   "source": [
    "xml.find('size').find('width').text"
   ]
  },
  {
   "cell_type": "code",
   "execution_count": null,
   "metadata": {},
   "outputs": [],
   "source": [
    "o.find('name').text"
   ]
  },
  {
   "cell_type": "code",
   "execution_count": null,
   "metadata": {},
   "outputs": [],
   "source": [
    "img_path = '/opt/data/OneDrive_2_11-21-2018/img_3_104001001F65A100.jpg'\n",
    "PIL.Image.open(img_path)"
   ]
  },
  {
   "cell_type": "code",
   "execution_count": null,
   "metadata": {},
   "outputs": [],
   "source": [
    "xml_path = '/opt/data/OneDrive_2_11-21-2018/img_3_104001001F65A100.xml'\n",
    "objects = ET.fromstring(open(xml_path).read()).findall('object')"
   ]
  },
  {
   "cell_type": "code",
   "execution_count": null,
   "metadata": {},
   "outputs": [],
   "source": [
    "feature = label_img_object_to_feature(objects[0])\n",
    "feature"
   ]
  },
  {
   "cell_type": "code",
   "execution_count": null,
   "metadata": {},
   "outputs": [],
   "source": [
    "shape(feature['geometry'])"
   ]
  },
  {
   "cell_type": "code",
   "execution_count": null,
   "metadata": {},
   "outputs": [],
   "source": []
  }
 ],
 "metadata": {
  "kernelspec": {
   "display_name": "Python 3",
   "language": "python",
   "name": "python3"
  },
  "language_info": {
   "codemirror_mode": {
    "name": "ipython",
    "version": 3
   },
   "file_extension": ".py",
   "mimetype": "text/x-python",
   "name": "python",
   "nbconvert_exporter": "python",
   "pygments_lexer": "ipython3",
   "version": "3.5.2"
  }
 },
 "nbformat": 4,
 "nbformat_minor": 2
}
